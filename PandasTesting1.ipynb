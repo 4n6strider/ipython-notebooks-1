{
 "metadata": {
  "name": "PandasTesting1"
 },
 "nbformat": 3,
 "nbformat_minor": 0,
 "worksheets": [
  {
   "cells": [
    {
     "cell_type": "code",
     "collapsed": false,
     "input": [
      "import pandas as pd\n",
      "from pandas import DataFrame, Series"
     ],
     "language": "python",
     "metadata": {},
     "outputs": [],
     "prompt_number": 67
    },
    {
     "cell_type": "code",
     "collapsed": false,
     "input": [
      "data_dict = {'name': ['Caleb','Whitney','Hastin','Rafe'], \n",
      "             'age': [27,26,3,1],\n",
      "             'sex': ['M','F','M','M']}"
     ],
     "language": "python",
     "metadata": {},
     "outputs": [],
     "prompt_number": 68
    },
    {
     "cell_type": "code",
     "collapsed": false,
     "input": [
      "frame = DataFrame(data_dict)\n",
      "frame"
     ],
     "language": "python",
     "metadata": {},
     "outputs": [
      {
       "html": [
        "<div style=\"max-height:1000px;max-width:1500px;overflow:auto;\">\n",
        "<table border=\"1\" class=\"dataframe\">\n",
        "  <thead>\n",
        "    <tr style=\"text-align: right;\">\n",
        "      <th></th>\n",
        "      <th>age</th>\n",
        "      <th>name</th>\n",
        "      <th>sex</th>\n",
        "    </tr>\n",
        "  </thead>\n",
        "  <tbody>\n",
        "    <tr>\n",
        "      <th>0</th>\n",
        "      <td> 27</td>\n",
        "      <td>   Caleb</td>\n",
        "      <td> M</td>\n",
        "    </tr>\n",
        "    <tr>\n",
        "      <th>1</th>\n",
        "      <td> 26</td>\n",
        "      <td> Whitney</td>\n",
        "      <td> F</td>\n",
        "    </tr>\n",
        "    <tr>\n",
        "      <th>2</th>\n",
        "      <td>  3</td>\n",
        "      <td>  Hastin</td>\n",
        "      <td> M</td>\n",
        "    </tr>\n",
        "    <tr>\n",
        "      <th>3</th>\n",
        "      <td>  1</td>\n",
        "      <td>    Rafe</td>\n",
        "      <td> M</td>\n",
        "    </tr>\n",
        "  </tbody>\n",
        "</table>\n",
        "</div>"
       ],
       "output_type": "pyout",
       "prompt_number": 69,
       "text": [
        "   age     name sex\n",
        "0   27    Caleb   M\n",
        "1   26  Whitney   F\n",
        "2    3   Hastin   M\n",
        "3    1     Rafe   M"
       ]
      }
     ],
     "prompt_number": 69
    },
    {
     "cell_type": "code",
     "collapsed": false,
     "input": [
      "frame[frame.age > 18]"
     ],
     "language": "python",
     "metadata": {},
     "outputs": [
      {
       "html": [
        "<div style=\"max-height:1000px;max-width:1500px;overflow:auto;\">\n",
        "<table border=\"1\" class=\"dataframe\">\n",
        "  <thead>\n",
        "    <tr style=\"text-align: right;\">\n",
        "      <th></th>\n",
        "      <th>age</th>\n",
        "      <th>name</th>\n",
        "      <th>sex</th>\n",
        "    </tr>\n",
        "  </thead>\n",
        "  <tbody>\n",
        "    <tr>\n",
        "      <th>0</th>\n",
        "      <td> 27</td>\n",
        "      <td>   Caleb</td>\n",
        "      <td> M</td>\n",
        "    </tr>\n",
        "    <tr>\n",
        "      <th>1</th>\n",
        "      <td> 26</td>\n",
        "      <td> Whitney</td>\n",
        "      <td> F</td>\n",
        "    </tr>\n",
        "  </tbody>\n",
        "</table>\n",
        "</div>"
       ],
       "output_type": "pyout",
       "prompt_number": 70,
       "text": [
        "   age     name sex\n",
        "0   27    Caleb   M\n",
        "1   26  Whitney   F"
       ]
      }
     ],
     "prompt_number": 70
    },
    {
     "cell_type": "code",
     "collapsed": false,
     "input": [
      "print \"Average age:\", frame.age.mean()\n",
      "print \"Age standard deviation:\", frame.age.std()"
     ],
     "language": "python",
     "metadata": {},
     "outputs": [
      {
       "output_type": "stream",
       "stream": "stdout",
       "text": [
        "Average age: 14.25\n",
        "Age standard deviation: 14.174507634\n"
       ]
      }
     ],
     "prompt_number": 71
    },
    {
     "cell_type": "code",
     "collapsed": false,
     "input": [
      "frame.name # Selecting a column returns a Series"
     ],
     "language": "python",
     "metadata": {},
     "outputs": [
      {
       "output_type": "pyout",
       "prompt_number": 72,
       "text": [
        "0      Caleb\n",
        "1    Whitney\n",
        "2     Hastin\n",
        "3       Rafe\n",
        "Name: name, dtype: object"
       ]
      }
     ],
     "prompt_number": 72
    },
    {
     "cell_type": "code",
     "collapsed": false,
     "input": [
      "frame.ix[[0,1]] # Selecting by index"
     ],
     "language": "python",
     "metadata": {},
     "outputs": [
      {
       "html": [
        "<div style=\"max-height:1000px;max-width:1500px;overflow:auto;\">\n",
        "<table border=\"1\" class=\"dataframe\">\n",
        "  <thead>\n",
        "    <tr style=\"text-align: right;\">\n",
        "      <th></th>\n",
        "      <th>age</th>\n",
        "      <th>name</th>\n",
        "      <th>sex</th>\n",
        "    </tr>\n",
        "  </thead>\n",
        "  <tbody>\n",
        "    <tr>\n",
        "      <th>0</th>\n",
        "      <td> 27</td>\n",
        "      <td>   Caleb</td>\n",
        "      <td> M</td>\n",
        "    </tr>\n",
        "    <tr>\n",
        "      <th>1</th>\n",
        "      <td> 26</td>\n",
        "      <td> Whitney</td>\n",
        "      <td> F</td>\n",
        "    </tr>\n",
        "  </tbody>\n",
        "</table>\n",
        "</div>"
       ],
       "output_type": "pyout",
       "prompt_number": 73,
       "text": [
        "   age     name sex\n",
        "0   27    Caleb   M\n",
        "1   26  Whitney   F"
       ]
      }
     ],
     "prompt_number": 73
    },
    {
     "cell_type": "code",
     "collapsed": false,
     "input": [
      "frame.ix[2] # Selecting just 1 row returns a Series"
     ],
     "language": "python",
     "metadata": {},
     "outputs": [
      {
       "output_type": "pyout",
       "prompt_number": 74,
       "text": [
        "age          3\n",
        "name    Hastin\n",
        "sex          M\n",
        "Name: 2, dtype: object"
       ]
      }
     ],
     "prompt_number": 74
    },
    {
     "cell_type": "code",
     "collapsed": false,
     "input": [
      "frame['state'] = 'Wisconsin'\n",
      "frame['country'] = 'USA'\n",
      "frame"
     ],
     "language": "python",
     "metadata": {},
     "outputs": [
      {
       "html": [
        "<div style=\"max-height:1000px;max-width:1500px;overflow:auto;\">\n",
        "<table border=\"1\" class=\"dataframe\">\n",
        "  <thead>\n",
        "    <tr style=\"text-align: right;\">\n",
        "      <th></th>\n",
        "      <th>age</th>\n",
        "      <th>name</th>\n",
        "      <th>sex</th>\n",
        "      <th>state</th>\n",
        "      <th>country</th>\n",
        "    </tr>\n",
        "  </thead>\n",
        "  <tbody>\n",
        "    <tr>\n",
        "      <th>0</th>\n",
        "      <td> 27</td>\n",
        "      <td>   Caleb</td>\n",
        "      <td> M</td>\n",
        "      <td> Wisconsin</td>\n",
        "      <td> USA</td>\n",
        "    </tr>\n",
        "    <tr>\n",
        "      <th>1</th>\n",
        "      <td> 26</td>\n",
        "      <td> Whitney</td>\n",
        "      <td> F</td>\n",
        "      <td> Wisconsin</td>\n",
        "      <td> USA</td>\n",
        "    </tr>\n",
        "    <tr>\n",
        "      <th>2</th>\n",
        "      <td>  3</td>\n",
        "      <td>  Hastin</td>\n",
        "      <td> M</td>\n",
        "      <td> Wisconsin</td>\n",
        "      <td> USA</td>\n",
        "    </tr>\n",
        "    <tr>\n",
        "      <th>3</th>\n",
        "      <td>  1</td>\n",
        "      <td>    Rafe</td>\n",
        "      <td> M</td>\n",
        "      <td> Wisconsin</td>\n",
        "      <td> USA</td>\n",
        "    </tr>\n",
        "  </tbody>\n",
        "</table>\n",
        "</div>"
       ],
       "output_type": "pyout",
       "prompt_number": 75,
       "text": [
        "   age     name sex      state country\n",
        "0   27    Caleb   M  Wisconsin     USA\n",
        "1   26  Whitney   F  Wisconsin     USA\n",
        "2    3   Hastin   M  Wisconsin     USA\n",
        "3    1     Rafe   M  Wisconsin     USA"
       ]
      }
     ],
     "prompt_number": 75
    },
    {
     "cell_type": "code",
     "collapsed": false,
     "input": [
      "frame.drop('country', axis=1) # Creates a copy, doesn't change frame"
     ],
     "language": "python",
     "metadata": {},
     "outputs": [
      {
       "html": [
        "<div style=\"max-height:1000px;max-width:1500px;overflow:auto;\">\n",
        "<table border=\"1\" class=\"dataframe\">\n",
        "  <thead>\n",
        "    <tr style=\"text-align: right;\">\n",
        "      <th></th>\n",
        "      <th>age</th>\n",
        "      <th>name</th>\n",
        "      <th>sex</th>\n",
        "      <th>state</th>\n",
        "    </tr>\n",
        "  </thead>\n",
        "  <tbody>\n",
        "    <tr>\n",
        "      <th>0</th>\n",
        "      <td> 27</td>\n",
        "      <td>   Caleb</td>\n",
        "      <td> M</td>\n",
        "      <td> Wisconsin</td>\n",
        "    </tr>\n",
        "    <tr>\n",
        "      <th>1</th>\n",
        "      <td> 26</td>\n",
        "      <td> Whitney</td>\n",
        "      <td> F</td>\n",
        "      <td> Wisconsin</td>\n",
        "    </tr>\n",
        "    <tr>\n",
        "      <th>2</th>\n",
        "      <td>  3</td>\n",
        "      <td>  Hastin</td>\n",
        "      <td> M</td>\n",
        "      <td> Wisconsin</td>\n",
        "    </tr>\n",
        "    <tr>\n",
        "      <th>3</th>\n",
        "      <td>  1</td>\n",
        "      <td>    Rafe</td>\n",
        "      <td> M</td>\n",
        "      <td> Wisconsin</td>\n",
        "    </tr>\n",
        "  </tbody>\n",
        "</table>\n",
        "</div>"
       ],
       "output_type": "pyout",
       "prompt_number": 76,
       "text": [
        "   age     name sex      state\n",
        "0   27    Caleb   M  Wisconsin\n",
        "1   26  Whitney   F  Wisconsin\n",
        "2    3   Hastin   M  Wisconsin\n",
        "3    1     Rafe   M  Wisconsin"
       ]
      }
     ],
     "prompt_number": 76
    },
    {
     "cell_type": "code",
     "collapsed": false,
     "input": [
      "frame = frame.append({'age': 22, 'name': 'Wes', 'sex': 'M'}, ignore_index=True)\n",
      "frame"
     ],
     "language": "python",
     "metadata": {},
     "outputs": [
      {
       "html": [
        "<div style=\"max-height:1000px;max-width:1500px;overflow:auto;\">\n",
        "<table border=\"1\" class=\"dataframe\">\n",
        "  <thead>\n",
        "    <tr style=\"text-align: right;\">\n",
        "      <th></th>\n",
        "      <th>age</th>\n",
        "      <th>name</th>\n",
        "      <th>sex</th>\n",
        "      <th>state</th>\n",
        "      <th>country</th>\n",
        "    </tr>\n",
        "  </thead>\n",
        "  <tbody>\n",
        "    <tr>\n",
        "      <th>0</th>\n",
        "      <td> 27</td>\n",
        "      <td>   Caleb</td>\n",
        "      <td> M</td>\n",
        "      <td> Wisconsin</td>\n",
        "      <td> USA</td>\n",
        "    </tr>\n",
        "    <tr>\n",
        "      <th>1</th>\n",
        "      <td> 26</td>\n",
        "      <td> Whitney</td>\n",
        "      <td> F</td>\n",
        "      <td> Wisconsin</td>\n",
        "      <td> USA</td>\n",
        "    </tr>\n",
        "    <tr>\n",
        "      <th>2</th>\n",
        "      <td>  3</td>\n",
        "      <td>  Hastin</td>\n",
        "      <td> M</td>\n",
        "      <td> Wisconsin</td>\n",
        "      <td> USA</td>\n",
        "    </tr>\n",
        "    <tr>\n",
        "      <th>3</th>\n",
        "      <td>  1</td>\n",
        "      <td>    Rafe</td>\n",
        "      <td> M</td>\n",
        "      <td> Wisconsin</td>\n",
        "      <td> USA</td>\n",
        "    </tr>\n",
        "    <tr>\n",
        "      <th>4</th>\n",
        "      <td> 22</td>\n",
        "      <td>     Wes</td>\n",
        "      <td> M</td>\n",
        "      <td>       NaN</td>\n",
        "      <td> NaN</td>\n",
        "    </tr>\n",
        "  </tbody>\n",
        "</table>\n",
        "</div>"
       ],
       "output_type": "pyout",
       "prompt_number": 77,
       "text": [
        "  age     name sex      state country\n",
        "0  27    Caleb   M  Wisconsin     USA\n",
        "1  26  Whitney   F  Wisconsin     USA\n",
        "2   3   Hastin   M  Wisconsin     USA\n",
        "3   1     Rafe   M  Wisconsin     USA\n",
        "4  22      Wes   M        NaN     NaN"
       ]
      }
     ],
     "prompt_number": 77
    },
    {
     "cell_type": "code",
     "collapsed": false,
     "input": [
      "frame = frame.drop('country', axis=1)\n",
      "frame"
     ],
     "language": "python",
     "metadata": {},
     "outputs": [
      {
       "html": [
        "<div style=\"max-height:1000px;max-width:1500px;overflow:auto;\">\n",
        "<table border=\"1\" class=\"dataframe\">\n",
        "  <thead>\n",
        "    <tr style=\"text-align: right;\">\n",
        "      <th></th>\n",
        "      <th>age</th>\n",
        "      <th>name</th>\n",
        "      <th>sex</th>\n",
        "      <th>state</th>\n",
        "    </tr>\n",
        "  </thead>\n",
        "  <tbody>\n",
        "    <tr>\n",
        "      <th>0</th>\n",
        "      <td> 27</td>\n",
        "      <td>   Caleb</td>\n",
        "      <td> M</td>\n",
        "      <td> Wisconsin</td>\n",
        "    </tr>\n",
        "    <tr>\n",
        "      <th>1</th>\n",
        "      <td> 26</td>\n",
        "      <td> Whitney</td>\n",
        "      <td> F</td>\n",
        "      <td> Wisconsin</td>\n",
        "    </tr>\n",
        "    <tr>\n",
        "      <th>2</th>\n",
        "      <td>  3</td>\n",
        "      <td>  Hastin</td>\n",
        "      <td> M</td>\n",
        "      <td> Wisconsin</td>\n",
        "    </tr>\n",
        "    <tr>\n",
        "      <th>3</th>\n",
        "      <td>  1</td>\n",
        "      <td>    Rafe</td>\n",
        "      <td> M</td>\n",
        "      <td> Wisconsin</td>\n",
        "    </tr>\n",
        "    <tr>\n",
        "      <th>4</th>\n",
        "      <td> 22</td>\n",
        "      <td>     Wes</td>\n",
        "      <td> M</td>\n",
        "      <td>       NaN</td>\n",
        "    </tr>\n",
        "  </tbody>\n",
        "</table>\n",
        "</div>"
       ],
       "output_type": "pyout",
       "prompt_number": 78,
       "text": [
        "  age     name sex      state\n",
        "0  27    Caleb   M  Wisconsin\n",
        "1  26  Whitney   F  Wisconsin\n",
        "2   3   Hastin   M  Wisconsin\n",
        "3   1     Rafe   M  Wisconsin\n",
        "4  22      Wes   M        NaN"
       ]
      }
     ],
     "prompt_number": 78
    },
    {
     "cell_type": "code",
     "collapsed": false,
     "input": [
      "frame.ix[4]['state'] = 'Illinois'\n",
      "frame"
     ],
     "language": "python",
     "metadata": {},
     "outputs": [
      {
       "html": [
        "<div style=\"max-height:1000px;max-width:1500px;overflow:auto;\">\n",
        "<table border=\"1\" class=\"dataframe\">\n",
        "  <thead>\n",
        "    <tr style=\"text-align: right;\">\n",
        "      <th></th>\n",
        "      <th>age</th>\n",
        "      <th>name</th>\n",
        "      <th>sex</th>\n",
        "      <th>state</th>\n",
        "    </tr>\n",
        "  </thead>\n",
        "  <tbody>\n",
        "    <tr>\n",
        "      <th>0</th>\n",
        "      <td> 27</td>\n",
        "      <td>   Caleb</td>\n",
        "      <td> M</td>\n",
        "      <td> Wisconsin</td>\n",
        "    </tr>\n",
        "    <tr>\n",
        "      <th>1</th>\n",
        "      <td> 26</td>\n",
        "      <td> Whitney</td>\n",
        "      <td> F</td>\n",
        "      <td> Wisconsin</td>\n",
        "    </tr>\n",
        "    <tr>\n",
        "      <th>2</th>\n",
        "      <td>  3</td>\n",
        "      <td>  Hastin</td>\n",
        "      <td> M</td>\n",
        "      <td> Wisconsin</td>\n",
        "    </tr>\n",
        "    <tr>\n",
        "      <th>3</th>\n",
        "      <td>  1</td>\n",
        "      <td>    Rafe</td>\n",
        "      <td> M</td>\n",
        "      <td> Wisconsin</td>\n",
        "    </tr>\n",
        "    <tr>\n",
        "      <th>4</th>\n",
        "      <td> 22</td>\n",
        "      <td>     Wes</td>\n",
        "      <td> M</td>\n",
        "      <td>  Illinois</td>\n",
        "    </tr>\n",
        "  </tbody>\n",
        "</table>\n",
        "</div>"
       ],
       "output_type": "pyout",
       "prompt_number": 80,
       "text": [
        "  age     name sex      state\n",
        "0  27    Caleb   M  Wisconsin\n",
        "1  26  Whitney   F  Wisconsin\n",
        "2   3   Hastin   M  Wisconsin\n",
        "3   1     Rafe   M  Wisconsin\n",
        "4  22      Wes   M   Illinois"
       ]
      }
     ],
     "prompt_number": 80
    },
    {
     "cell_type": "code",
     "collapsed": false,
     "input": [
      "frame.pivot(index='name', columns='state', values='age')"
     ],
     "language": "python",
     "metadata": {},
     "outputs": [
      {
       "html": [
        "<div style=\"max-height:1000px;max-width:1500px;overflow:auto;\">\n",
        "<table border=\"1\" class=\"dataframe\">\n",
        "  <thead>\n",
        "    <tr style=\"text-align: right;\">\n",
        "      <th>state</th>\n",
        "      <th>Illinois</th>\n",
        "      <th>Wisconsin</th>\n",
        "    </tr>\n",
        "    <tr>\n",
        "      <th>name</th>\n",
        "      <th></th>\n",
        "      <th></th>\n",
        "    </tr>\n",
        "  </thead>\n",
        "  <tbody>\n",
        "    <tr>\n",
        "      <th>Caleb</th>\n",
        "      <td> NaN</td>\n",
        "      <td>  27</td>\n",
        "    </tr>\n",
        "    <tr>\n",
        "      <th>Hastin</th>\n",
        "      <td> NaN</td>\n",
        "      <td>   3</td>\n",
        "    </tr>\n",
        "    <tr>\n",
        "      <th>Rafe</th>\n",
        "      <td> NaN</td>\n",
        "      <td>   1</td>\n",
        "    </tr>\n",
        "    <tr>\n",
        "      <th>Wes</th>\n",
        "      <td>  22</td>\n",
        "      <td> NaN</td>\n",
        "    </tr>\n",
        "    <tr>\n",
        "      <th>Whitney</th>\n",
        "      <td> NaN</td>\n",
        "      <td>  26</td>\n",
        "    </tr>\n",
        "  </tbody>\n",
        "</table>\n",
        "</div>"
       ],
       "output_type": "pyout",
       "prompt_number": 81,
       "text": [
        "state   Illinois Wisconsin\n",
        "name                      \n",
        "Caleb        NaN        27\n",
        "Hastin       NaN         3\n",
        "Rafe         NaN         1\n",
        "Wes           22       NaN\n",
        "Whitney      NaN        26"
       ]
      }
     ],
     "prompt_number": 81
    },
    {
     "cell_type": "code",
     "collapsed": false,
     "input": [],
     "language": "python",
     "metadata": {},
     "outputs": []
    }
   ],
   "metadata": {}
  }
 ]
}