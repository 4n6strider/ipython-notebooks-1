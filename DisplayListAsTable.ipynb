{
 "metadata": {
  "name": "",
  "signature": "sha256:7ece06642348e4efd7daddc5ebd1ac08563704858018eb52dddca947d2f0dde1"
 },
 "nbformat": 3,
 "nbformat_minor": 0,
 "worksheets": [
  {
   "cells": [
    {
     "cell_type": "code",
     "collapsed": false,
     "input": [
      "class ListTable(list):\n",
      "    \"\"\" Overridden list class which takes a 2-dimensional list of the form [[1,2,3],[4,5,6]]\n",
      "        and renders an HTML Table in IPython Notebook. \"\"\"\n",
      "    \n",
      "    def _repr_html_(self):\n",
      "        html = [\"<table>\"]\n",
      "        for row in self:\n",
      "            html.append(\"<tr>\")\n",
      "            \n",
      "            for col in row:\n",
      "                html.append(\"<td>{0}</td>\".format(col))\n",
      "            \n",
      "            html.append(\"</tr>\")\n",
      "        html.append(\"</table>\")\n",
      "        return ''.join(html)"
     ],
     "language": "python",
     "metadata": {},
     "outputs": [],
     "prompt_number": 1
    },
    {
     "cell_type": "code",
     "collapsed": false,
     "input": [
      "import random\n",
      "table = ListTable()\n",
      "table.append(['x', 'y', 'x-y', '(x-y)^2'])\n",
      "for i in xrange(7):\n",
      "    x = random.uniform(0, 10)\n",
      "    y = random.uniform(0, 10)\n",
      "    table.append([x, y, x-y, (x-y)**2])\n",
      "table"
     ],
     "language": "python",
     "metadata": {},
     "outputs": [
      {
       "html": [
        "<table><tr><td>x</td><td>y</td><td>x-y</td><td>(x-y)^2</td></tr><tr><td>5.27336039474</td><td>1.73603706718</td><td>3.53732332757</td><td>12.5126563238</td></tr><tr><td>3.58750499186</td><td>9.36488444915</td><td>-5.77737945729</td><td>33.3781133935</td></tr><tr><td>3.14626556118</td><td>5.53669857496</td><td>-2.39043301378</td><td>5.71416999337</td></tr><tr><td>7.53918319126</td><td>4.77284271076</td><td>2.76634048051</td><td>7.6526396541</td></tr><tr><td>6.86541231312</td><td>4.11103775169</td><td>2.75437456143</td><td>7.58657922465</td></tr><tr><td>4.12080106428</td><td>5.90268571561</td><td>-1.78188465133</td><td>3.17511291064</td></tr><tr><td>2.04193219801</td><td>3.54338507467</td><td>-1.50145287666</td><td>2.25436074082</td></tr></table>"
       ],
       "metadata": {},
       "output_type": "pyout",
       "prompt_number": 2,
       "text": [
        "[['x', 'y', 'x-y', '(x-y)^2'],\n",
        " [5.273360394743629,\n",
        "  1.736037067176378,\n",
        "  3.5373233275672513,\n",
        "  12.512656323751452],\n",
        " [3.587504991857138, 9.364884449146473, -5.777379457289335, 33.37811339350881],\n",
        " [3.146265561182362,\n",
        "  5.536698574961817,\n",
        "  -2.390433013779455,\n",
        "  5.7141699933667285],\n",
        " [7.53918319126476, 4.772842710756996, 2.766340480507764, 7.652639654095926],\n",
        " [6.865412313123769, 4.111037751693395, 2.7543745614303736, 7.586579224654763],\n",
        " [4.120801064281544,\n",
        "  5.902685715609378,\n",
        "  -1.7818846513278341,\n",
        "  3.175112910637717],\n",
        " [2.041932198007075,\n",
        "  3.5433850746650073,\n",
        "  -1.5014528766579325,\n",
        "  2.2543607408243806]]"
       ]
      }
     ],
     "prompt_number": 2
    }
   ],
   "metadata": {}
  }
 ]
}