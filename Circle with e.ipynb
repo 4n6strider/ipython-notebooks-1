{
 "metadata": {
  "name": "",
  "signature": "sha256:5c7e4067ef1752ecbe871d71ed1cec578674d67d09843b2bfc7401a69855663b"
 },
 "nbformat": 3,
 "nbformat_minor": 0,
 "worksheets": [
  {
   "cells": [
    {
     "cell_type": "code",
     "collapsed": false,
     "input": [
      "%matplotlib inline\n",
      "import matplotlib.pyplot as plt\n",
      "import numpy as np\n",
      "import math"
     ],
     "language": "python",
     "metadata": {},
     "outputs": [],
     "prompt_number": 12
    },
    {
     "cell_type": "code",
     "collapsed": false,
     "input": [
      "import cmath\n",
      "\n",
      "angle = np.linspace(0,2*math.pi, 32)\n",
      "\n",
      "def generate_point(complex_num):\n",
      "    return (complex_num.real, complex_num.imag)\n",
      "\n",
      "def get_x_y(points):\n",
      "    x = []\n",
      "    y = []\n",
      "    for p in points:\n",
      "        x.append(p[0])\n",
      "        y.append(p[1])\n",
      "    return (x,y)\n"
     ],
     "language": "python",
     "metadata": {},
     "outputs": [],
     "prompt_number": 13
    },
    {
     "cell_type": "code",
     "collapsed": false,
     "input": [
      "complex_nums = map(lambda a: 5 * cmath.exp(1j * a), angle)\n",
      "points = [generate_point(c) for c in complex_nums]\n",
      "(x_list,y_list) = get_x_y(points)\n",
      "graph = plt.plot(x_list,y_list, 'go')\n",
      "fig = plt.gcf()     # Get's the graph\n",
      "fig.set_size_inches(5,5)          # Make it square"
     ],
     "language": "python",
     "metadata": {},
     "outputs": [
      {
       "metadata": {},
       "output_type": "display_data",
       "png": "[encoded data removed]",
       "text": [
        "<matplotlib.figure.Figure at 0x108df5ad0>"
       ]
      }
     ],
     "prompt_number": 14
    },
    {
     "cell_type": "code",
     "collapsed": false,
     "input": [],
     "language": "python",
     "metadata": {},
     "outputs": [],
     "prompt_number": 14
    }
   ],
   "metadata": {}
  }
 ]
}