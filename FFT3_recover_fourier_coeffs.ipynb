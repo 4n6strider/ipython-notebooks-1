{
 "metadata": {
  "name": "FFT3_recover_fourier_coeffs"
 },
 "nbformat": 3,
 "nbformat_minor": 0,
 "worksheets": [
  {
   "cells": [
    {
     "cell_type": "code",
     "collapsed": false,
     "input": [
      "import numpy as np\n",
      "# Should be 4 Hz, 10 Hz, and 20 Hz\n",
      "f = lambda t: 2*np.cos(4*2*np.pi*t) + 5*np.sin(10*2*np.pi*t) + 3*np.cos(20*2*np.pi*t)\n",
      "n = 256\n",
      "r = np.arange(0.0,1.0,1.0/n)\n",
      "s = f(r)\n",
      "F = np.fft.rfft(s)\n",
      "m = n/2\n",
      "p = lambda z: (abs(np.real(z))/m,abs(np.imag(z))/m)\n",
      "t = p(F)\n",
      "tol = 1.0e-8\n",
      "for i in range(0,len(t[0])):\n",
      "    if(t[0][i] > tol):\n",
      "        print str(t[0][i]) + '*cos(' + str(i) + '*2*pi*t)'\n",
      "    if(t[1][i] > tol):\n",
      "        print str(t[1][i]) + '*sin(' + str(i) + '*2*pi*t)'\n"
     ],
     "language": "python",
     "metadata": {},
     "outputs": [
      {
       "output_type": "stream",
       "stream": "stdout",
       "text": [
        "2.0*cos(4*2*pi*t)\n",
        "5.0*sin(10*2*pi*t)\n",
        "3.0*cos(20*2*pi*t)\n"
       ]
      }
     ],
     "prompt_number": 62
    },
    {
     "cell_type": "code",
     "collapsed": false,
     "input": [
      "p2 = lambda z: math.sqrt(np.real(z)**2 + np.imag(z)**2)/m\n",
      "t = [p2(i) for i in F]\n",
      "freq = np.fft.fftfreq(n)[0:n/2]\n",
      "print len(t[0:-1]), len(freq)\n",
      "freq2 = [i * n for i in freq] # Normalize frequencies by multiplying by the sample number\n",
      "plot(freq2, t[0:-1], 'r')\n",
      "print freq2\n",
      "d = dict(zip(freq2, t[0:-1]))\n",
      "for i in range(25):\n",
      "    print \"Frequency {0} = {1}\".format(i, d[i])"
     ],
     "language": "python",
     "metadata": {},
     "outputs": [
      {
       "output_type": "stream",
       "stream": "stdout",
       "text": [
        "128 128\n",
        "[0.0, 1.0, 2.0, 3.0, 4.0, 5.0, 6.0, 7.0, 8.0, 9.0, 10.0, 11.0, 12.0, 13.0, 14.0, 15.0, 16.0, 17.0, 18.0, 19.0, 20.0, 21.0, 22.0, 23.0, 24.0, 25.0, 26.0, 27.0, 28.0, 29.0, 30.0, 31.0, 32.0, 33.0, 34.0, 35.0, 36.0, 37.0, 38.0, 39.0, 40.0, 41.0, 42.0, 43.0, 44.0, 45.0, 46.0, 47.0, 48.0, 49.0, 50.0, 51.0, 52.0, 53.0, 54.0, 55.0, 56.0, 57.0, 58.0, 59.0, 60.0, 61.0, 62.0, 63.0, 64.0, 65.0, 66.0, 67.0, 68.0, 69.0, 70.0, 71.0, 72.0, 73.0, 74.0, 75.0, 76.0, 77.0, 78.0, 79.0, 80.0, 81.0, 82.0, 83.0, 84.0, 85.0, 86.0, 87.0, 88.0, 89.0, 90.0, 91.0, 92.0, 93.0, 94.0, 95.0, 96.0, 97.0, 98.0, 99.0, 100.0, 101.0, 102.0, 103.0, 104.0, 105.0, 106.0, 107.0, 108.0, 109.0, 110.0, 111.0, 112.0, 113.0, 114.0, 115.0, 116.0, 117.0, 118.0, 119.0, 120.0, 121.0, 122.0, 123.0, 124.0, 125.0, 126.0, 127.0]\n",
        "Frequency 0 = 2.74086309204e-16\n",
        "Frequency 1 = 3.37372809122e-16\n",
        "Frequency 2 = 4.60802170076e-16\n",
        "Frequency 3 = 4.39674274228e-16\n",
        "Frequency 4 = 2.0\n",
        "Frequency 5 = 6.16910896269e-16\n",
        "Frequency 6 = 2.27035497305e-15\n",
        "Frequency 7 = 1.15771511635e-15\n",
        "Frequency 8 = 9.37044033561e-16\n",
        "Frequency 9 = 2.10382661632e-15\n",
        "Frequency 10 = 5.0\n",
        "Frequency 11 = 1.53818926081e-15\n",
        "Frequency 12 = 1.15742001833e-15\n",
        "Frequency 13 = 1.25699850103e-16\n",
        "Frequency 14 = 8.55994122917e-16\n",
        "Frequency 15 = 1.83961677303e-16\n",
        "Frequency 16 = 6.76533916228e-16\n",
        "Frequency 17 = 1.36323700262e-15\n",
        "Frequency 18 = 1.59761217397e-15\n",
        "Frequency 19 = 2.19614846786e-15\n",
        "Frequency 20 = 3.0\n",
        "Frequency 21 = 2.21257098187e-15\n",
        "Frequency 22 = 1.1456704224e-15\n",
        "Frequency 23 = 1.08055363968e-15\n",
        "Frequency 24 = 1.29150607432e-15\n"
       ]
      },
      {
       "output_type": "display_data",
       "png": "[encoded data removed]"
      }
     ],
     "prompt_number": 63
    },
    {
     "cell_type": "code",
     "collapsed": false,
     "input": [],
     "language": "python",
     "metadata": {},
     "outputs": [],
     "prompt_number": 63
    }
   ],
   "metadata": {}
  }
 ]
}