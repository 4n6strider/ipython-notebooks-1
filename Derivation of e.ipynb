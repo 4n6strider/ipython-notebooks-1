{
 "metadata": {
  "name": "",
  "signature": "sha256:ec9d469966d5d945df79497e631f5d6ac07a11b0941737bad45b92e7e127d8ae"
 },
 "nbformat": 3,
 "nbformat_minor": 0,
 "worksheets": [
  {
   "cells": [
    {
     "cell_type": "code",
     "collapsed": false,
     "input": [
      "%matplotlib inline\n",
      "import matplotlib.pyplot as plt\n",
      "import numpy as np\n",
      "import math"
     ],
     "language": "python",
     "metadata": {},
     "outputs": [
      {
       "output_type": "stream",
       "stream": "stdout",
       "text": [
        "\n"
       ]
      }
     ],
     "prompt_number": 13
    },
    {
     "cell_type": "code",
     "collapsed": false,
     "input": [
      "def compound_interest(principal, rate, compounds_per_year, years):\n",
      "    return principal * (1 + rate / compounds_per_year) ** (compounds_per_year * years)\n",
      "\n",
      "\n",
      "print compound_interest(100, 0.07, 1, 1)  # 7% interest, compounded 1 time per year, for 1 year\n",
      "print compound_interest(100, 0.07, 1, 10) # 7% interest, compounded 1 time per year, for 10 years\n",
      "print compound_interest(1, 1.00, 1, 1)    # 100% interest, compounded 1 time per year, for one year"
     ],
     "language": "python",
     "metadata": {},
     "outputs": [
      {
       "output_type": "stream",
       "stream": "stdout",
       "text": [
        "107.0\n",
        "196.715135729\n",
        "2.0\n"
       ]
      }
     ],
     "prompt_number": 14
    },
    {
     "cell_type": "code",
     "collapsed": false,
     "input": [
      "def ci_by_year_and_compounds(years_array, compounds):\n",
      "    return [compound_interest(1, 1.00, compounds, y) for y in years_array]\n",
      "\n",
      "x = np.arange(0, 1 + 1./12, 1./12)\n",
      "y = [compound_interest(1, 1.00, 1, y) for y in x]\n",
      "y2 = ci_by_year_and_compounds(x, 2)\n",
      "y3 = ci_by_year_and_compounds(x, 10)\n",
      "y4 = ci_by_year_and_compounds(x, 100)\n",
      "y_e = [math.e**(n) for n in x]\n",
      "\n",
      "plot(x,y, 'b')     # blue\n",
      "plot(x,y2, 'g')    # green\n",
      "plot(x,y3, 'r')    # red\n",
      "plot(x,y4, 'c')    # cyan\n",
      "\n",
      "plot(x,y_e, 'ro')  # red dots"
     ],
     "language": "python",
     "metadata": {},
     "outputs": [
      {
       "metadata": {},
       "output_type": "pyout",
       "prompt_number": 15,
       "text": [
        "[<matplotlib.lines.Line2D at 0x104cf1d10>]"
       ]
      },
      {
       "metadata": {},
       "output_type": "display_data",
       "png": "[encoded data removed]",
       "text": [
        "<matplotlib.figure.Figure at 0x104bd67d0>"
       ]
      }
     ],
     "prompt_number": 15
    },
    {
     "cell_type": "code",
     "collapsed": false,
     "input": [
      "print \"Compounded 1 time:     \", compound_interest(1, 1.0, 1, 1)\n",
      "print \"Compounded 10 times:   \", compound_interest(1, 1.0, 10, 1)\n",
      "print \"Compounded 100 times:  \", compound_interest(1, 1.0, 100, 1)\n",
      "print \"Compounded 1000 times: \", compound_interest(1, 1.0, 1000, 1)\n",
      "print\n",
      "print \"Value of e:            \", math.e"
     ],
     "language": "python",
     "metadata": {},
     "outputs": [
      {
       "output_type": "stream",
       "stream": "stdout",
       "text": [
        "Compounded 1 time:      2.0\n",
        "Compounded 10 times:    2.5937424601\n",
        "Compounded 100 times:   2.70481382942\n",
        "Compounded 1000 times:  2.71692393224\n",
        "\n",
        "Value of e:             2.71828182846\n"
       ]
      }
     ],
     "prompt_number": 16
    },
    {
     "cell_type": "code",
     "collapsed": false,
     "input": [],
     "language": "python",
     "metadata": {},
     "outputs": [],
     "prompt_number": 16
    }
   ],
   "metadata": {}
  }
 ]
}