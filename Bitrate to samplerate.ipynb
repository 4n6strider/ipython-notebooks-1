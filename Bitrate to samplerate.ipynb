{
 "metadata": {
  "name": "",
  "signature": "sha256:e9fd140cf9af6bfd7fab79721c7ed57b17b3045386c50ae225459121f3f5e712"
 },
 "nbformat": 3,
 "nbformat_minor": 0,
 "worksheets": [
  {
   "cells": [
    {
     "cell_type": "code",
     "collapsed": false,
     "input": [
      "BITS_PER_BYTE = 8.0\n",
      "BYTES_PER_SAMPLE = 2.0 # Because I'm using the \"-b 16\" rec argument\n",
      "CHANNELS = 2.0    # left and right speakers\n",
      "\n",
      "def bitrate_to_samplerate(bitrate):\n",
      "    return bitrate / BITS_PER_BYTE / BYTES_PER_SAMPLE / CHANNELS\n",
      "\n",
      "print bitrate_to_samplerate(256000)\n",
      "print bitrate_to_samplerate(1411200)\n"
     ],
     "language": "python",
     "metadata": {},
     "outputs": [
      {
       "output_type": "stream",
       "stream": "stdout",
       "text": [
        "8000.0\n",
        "44100.0\n"
       ]
      }
     ],
     "prompt_number": 1
    },
    {
     "cell_type": "code",
     "collapsed": false,
     "input": [],
     "language": "python",
     "metadata": {},
     "outputs": [],
     "prompt_number": 1
    }
   ],
   "metadata": {}
  }
 ]
}