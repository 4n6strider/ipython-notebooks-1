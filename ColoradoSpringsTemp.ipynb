{
 "metadata": {
  "name": "ColoradoSpringsTemp"
 },
 "nbformat": 3,
 "nbformat_minor": 0,
 "worksheets": [
  {
   "cells": [
    {
     "cell_type": "code",
     "collapsed": false,
     "input": [
      "# Data downloaded from: http://www.ncdc.noaa.gov/cdo-web/search\n",
      "\n",
      "csv_file = \"co_springs_1-1-2010_8-8-2013.csv\"\n",
      "data = open(csv_file, \"r\").readlines()"
     ],
     "language": "python",
     "metadata": {},
     "outputs": [],
     "prompt_number": 329
    },
    {
     "cell_type": "code",
     "collapsed": false,
     "input": [
      "column_headings = data[0]\n",
      "print column_headings"
     ],
     "language": "python",
     "metadata": {},
     "outputs": [
      {
       "output_type": "stream",
       "stream": "stdout",
       "text": [
        "STATION,DATE,TMAX,TMIN,TOBS\n",
        "\n"
       ]
      }
     ],
     "prompt_number": 330
    },
    {
     "cell_type": "code",
     "collapsed": false,
     "input": [
      "data[1]"
     ],
     "language": "python",
     "metadata": {},
     "outputs": [
      {
       "output_type": "pyout",
       "prompt_number": 331,
       "text": [
        "'GHCND:USR0000CFTC,20100128,-39,-72,-9999\\n'"
       ]
      }
     ],
     "prompt_number": 331
    },
    {
     "cell_type": "code",
     "collapsed": false,
     "input": [
      "date_and_max_temp = [(row.split(',')[1], row.split(',')[2]) for row in data[1:]]"
     ],
     "language": "python",
     "metadata": {},
     "outputs": [],
     "prompt_number": 332
    },
    {
     "cell_type": "code",
     "collapsed": false,
     "input": [
      "june_data = [(i[0], int(i[1])) for i in date_and_max_temp if i[0][4:6] == '06'] # and int(i[0][6:8]) < 7]"
     ],
     "language": "python",
     "metadata": {},
     "outputs": [],
     "prompt_number": 333
    },
    {
     "cell_type": "code",
     "collapsed": false,
     "input": [
      "def fahrenheit(celsius):\n",
      "    return celsius * (9.0/5) + 32\n",
      "\n"
     ],
     "language": "python",
     "metadata": {},
     "outputs": [],
     "prompt_number": 334
    },
    {
     "cell_type": "code",
     "collapsed": false,
     "input": [
      "june_data_in_f = [fahrenheit(i[1] * 0.10) for i in june_data]"
     ],
     "language": "python",
     "metadata": {},
     "outputs": [],
     "prompt_number": 335
    },
    {
     "cell_type": "code",
     "collapsed": false,
     "input": [
      "_ = hist(june_data_in_f, bins=16)"
     ],
     "language": "python",
     "metadata": {},
     "outputs": [
      {
       "output_type": "display_data",
       "png": "[encoded data removed]"
      }
     ],
     "prompt_number": 336
    },
    {
     "cell_type": "code",
     "collapsed": false,
     "input": [
      "print \"Average Max temperature for June in Colorado Springs:\", sum(june_data_in_f) / len(june_data_in_f)"
     ],
     "language": "python",
     "metadata": {},
     "outputs": [
      {
       "output_type": "stream",
       "stream": "stdout",
       "text": [
        "Average Max temperature for June in Colorado Springs: 82.0148837209\n"
       ]
      }
     ],
     "prompt_number": 339
    },
    {
     "cell_type": "code",
     "collapsed": false,
     "input": [
      "len([i for i in june_data_in_f if i < 75]) * 1.0 / len(june_data_in_f)"
     ],
     "language": "python",
     "metadata": {},
     "outputs": [
      {
       "output_type": "pyout",
       "prompt_number": 340,
       "text": [
        "0.19856887298747763"
       ]
      }
     ],
     "prompt_number": 340
    },
    {
     "cell_type": "code",
     "collapsed": false,
     "input": [],
     "language": "python",
     "metadata": {},
     "outputs": [],
     "prompt_number": 338
    }
   ],
   "metadata": {}
  }
 ]
}