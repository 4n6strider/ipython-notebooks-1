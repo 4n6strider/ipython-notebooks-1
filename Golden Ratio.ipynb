{
 "metadata": {
  "name": "",
  "signature": "sha256:a7df41037239427a60a5b768174d1856e7811d2d3f6f06b809ebc7fc05c41d12"
 },
 "nbformat": 3,
 "nbformat_minor": 0,
 "worksheets": [
  {
   "cells": [
    {
     "cell_type": "markdown",
     "metadata": {},
     "source": [
      "<img src=\"http://upload.wikimedia.org/wikipedia/commons/thumb/4/44/Golden_ratio_line.svg/270px-Golden_ratio_line.svg.png\" />"
     ]
    },
    {
     "cell_type": "markdown",
     "metadata": {},
     "source": [
      "From this relationship, we can derive this equation: $$\\frac{a}{b} = \\frac{a+b}{a}$$\n",
      "\n",
      "And if we then let b=1 (so we can find the ratio of a to 1), we get: $$a = \\frac{a+1}{a}$$\n",
      "\n",
      "Then, with this formula, we can define a function: $$f(a) = \\frac{a+1}{a}$$\n",
      "\n",
      "If we then find the **fixed-point in this function** (so that f(x) = x), then we will have found a solution to $$a = \\frac{a+1}{a}$$\n",
      "\n",
      "A simple way to think about the fixed-point of this function is this: it is the place where $y=x$ (or $f(x) = x$  ) intersects with our function.  And that intersction point should be the golden ratio.\n"
     ]
    },
    {
     "cell_type": "code",
     "collapsed": false,
     "input": [
      "%matplotlib inline\n",
      "import matplotlib.pyplot as plt\n",
      "import numpy as np\n",
      "import math"
     ],
     "language": "python",
     "metadata": {},
     "outputs": [],
     "prompt_number": 7
    },
    {
     "cell_type": "code",
     "collapsed": false,
     "input": [
      "# Plot y=(x+1)/x and y=x\n",
      "x=np.linspace(0.5,3,1000)\n",
      "y=map(lambda a: (a+1.0)/a, x)\n",
      "y2=map(lambda a: a, x)\n",
      "plt.plot(x, y)\n",
      "plt.plot(x, y2, 'r')\n",
      "\n",
      "# Make graph square\n",
      "fig = plt.gcf()\n",
      "fig.set_size_inches(5,5)"
     ],
     "language": "python",
     "metadata": {},
     "outputs": [
      {
       "metadata": {},
       "output_type": "display_data",
       "png": "[encoded data removed]",
       "text": [
        "<matplotlib.figure.Figure at 0x10a2e0c90>"
       ]
      }
     ],
     "prompt_number": 8
    },
    {
     "cell_type": "markdown",
     "metadata": {},
     "source": [
      "Another way to find the golden ratio is to use [Fixed-point iteration](http://en.wikipedia.org/wiki/Fixed-point_iteration) - again, since we know that finding the fixed point of the function:\n",
      "\n",
      "$$f(a) = \\frac{a+1}{a}$$\n",
      "\n",
      "is the golden ratio."
     ]
    },
    {
     "cell_type": "code",
     "collapsed": false,
     "input": [
      "# Alternatively, we can \n",
      "golden_ratio = reduce(lambda acc,_: (acc+1.0)/acc, xrange(100), 1)\n",
      "print golden_ratio"
     ],
     "language": "python",
     "metadata": {},
     "outputs": [
      {
       "output_type": "stream",
       "stream": "stdout",
       "text": [
        "1.61803398875\n"
       ]
      }
     ],
     "prompt_number": 9
    }
   ],
   "metadata": {}
  }
 ]
}