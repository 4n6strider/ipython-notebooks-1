{
 "metadata": {
  "name": "",
  "signature": "sha256:ac566af04b6f1ffdeb6ddbc996f5dd8869d37527ff15ceacb150f0326a150de0"
 },
 "nbformat": 3,
 "nbformat_minor": 0,
 "worksheets": [
  {
   "cells": [
    {
     "cell_type": "markdown",
     "metadata": {},
     "source": [
      "# Variables"
     ]
    },
    {
     "cell_type": "code",
     "collapsed": false,
     "input": [
      "p = 150000.0   # $150,000\n",
      "i = 0.02       # 2% Interest\n",
      "years = 5\n",
      "months = years * 12\n",
      "monthly_rent = 1800.0"
     ],
     "language": "python",
     "metadata": {},
     "outputs": [],
     "prompt_number": 1
    },
    {
     "cell_type": "markdown",
     "metadata": {},
     "source": [
      "# Scenario 1: 1st year up front"
     ]
    },
    {
     "cell_type": "code",
     "collapsed": false,
     "input": [
      "monthly_rent * 12"
     ],
     "language": "python",
     "metadata": {},
     "outputs": [
      {
       "metadata": {},
       "output_type": "pyout",
       "prompt_number": 2,
       "text": [
        "21600.0"
       ]
      }
     ],
     "prompt_number": 2
    },
    {
     "cell_type": "code",
     "collapsed": false,
     "input": [
      "payments1 = [monthly_rent * 12] + ([0] * 11) + [monthly_rent]* 4 * 12\n",
      "#payments1"
     ],
     "language": "python",
     "metadata": {},
     "outputs": [],
     "prompt_number": 3
    },
    {
     "cell_type": "code",
     "collapsed": false,
     "input": [
      "money_left = p\n",
      "for m in range(months):\n",
      "    money_left = money_left * (1 + i/12)\n",
      "    money_left -= payments1[m]\n",
      "\n",
      "money_left"
     ],
     "language": "python",
     "metadata": {},
     "outputs": [
      {
       "metadata": {},
       "output_type": "pyout",
       "prompt_number": 4,
       "text": [
        "52059.725244573165"
       ]
      }
     ],
     "prompt_number": 4
    },
    {
     "cell_type": "markdown",
     "metadata": {},
     "source": [
      "# Scenario 2: Pay every 6 months"
     ]
    },
    {
     "cell_type": "code",
     "collapsed": false,
     "input": [
      "payments2 = ([6 * monthly_rent] + 5 * [0]) * (5 * 2)\n",
      "#payments2"
     ],
     "language": "python",
     "metadata": {},
     "outputs": [],
     "prompt_number": 5
    },
    {
     "cell_type": "code",
     "collapsed": false,
     "input": [
      "money_left = p\n",
      "for m in range(months):\n",
      "    money_left = money_left * (1 + i/12)\n",
      "    money_left -= payments2[m]\n",
      "\n",
      "money_left"
     ],
     "language": "python",
     "metadata": {},
     "outputs": [
      {
       "metadata": {},
       "output_type": "pyout",
       "prompt_number": 6,
       "text": [
        "51803.61279248666"
       ]
      }
     ],
     "prompt_number": 6
    },
    {
     "cell_type": "markdown",
     "metadata": {},
     "source": [
      "# Scenario 3: Monthly payments with no interest (sanity test)"
     ]
    },
    {
     "cell_type": "code",
     "collapsed": false,
     "input": [
      "p - (monthly_rent * months)"
     ],
     "language": "python",
     "metadata": {},
     "outputs": [
      {
       "metadata": {},
       "output_type": "pyout",
       "prompt_number": 7,
       "text": [
        "42000.0"
       ]
      }
     ],
     "prompt_number": 7
    }
   ],
   "metadata": {}
  }
 ]
}