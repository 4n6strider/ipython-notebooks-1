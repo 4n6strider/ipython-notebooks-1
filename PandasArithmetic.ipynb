{
 "metadata": {
  "name": "",
  "signature": "sha256:a9f1c3eda3160654afafd48623fab852c1cdf41e506d46880773300359b7d4a7"
 },
 "nbformat": 3,
 "nbformat_minor": 0,
 "worksheets": [
  {
   "cells": [
    {
     "cell_type": "code",
     "collapsed": false,
     "input": [
      "import pandas as pd\n",
      "from pandas import DataFrame, Series\n",
      "\n",
      "s1 = Series([80, 90, 100], index=['a','b','c'])\n",
      "s2 = Series([50, 100, -80], index=['d','c','a'])\n",
      "\n",
      "s1"
     ],
     "language": "python",
     "metadata": {},
     "outputs": [
      {
       "metadata": {},
       "output_type": "pyout",
       "prompt_number": 1,
       "text": [
        "a     80\n",
        "b     90\n",
        "c    100\n",
        "dtype: int64"
       ]
      }
     ],
     "prompt_number": 1
    },
    {
     "cell_type": "code",
     "collapsed": false,
     "input": [
      "s2.sort()\n",
      "s2"
     ],
     "language": "python",
     "metadata": {},
     "outputs": [
      {
       "metadata": {},
       "output_type": "pyout",
       "prompt_number": 2,
       "text": [
        "a    -80\n",
        "d     50\n",
        "c    100\n",
        "dtype: int64"
       ]
      }
     ],
     "prompt_number": 2
    },
    {
     "cell_type": "code",
     "collapsed": false,
     "input": [
      "s1+s2"
     ],
     "language": "python",
     "metadata": {},
     "outputs": [
      {
       "metadata": {},
       "output_type": "pyout",
       "prompt_number": 3,
       "text": [
        "a      0\n",
        "b    NaN\n",
        "c    200\n",
        "d    NaN\n",
        "dtype: float64"
       ]
      }
     ],
     "prompt_number": 3
    },
    {
     "cell_type": "code",
     "collapsed": false,
     "input": [],
     "language": "python",
     "metadata": {},
     "outputs": [],
     "prompt_number": 3
    }
   ],
   "metadata": {}
  }
 ]
}